{
 "cells": [
  {
   "cell_type": "code",
   "execution_count": 4,
   "metadata": {},
   "outputs": [],
   "source": [
    "from xml.dom import minidom\n",
    "import glob, os\n",
    "from collections import Counter\n",
    "import pandas as pd\n",
    "import re"
   ]
  },
  {
   "cell_type": "code",
   "execution_count": 5,
   "metadata": {},
   "outputs": [
    {
     "name": "stdout",
     "output_type": "stream",
     "text": [
      "['achieve', 'adverb', 'affect', 'anger', 'anx', 'article', 'assent', 'auxverb', 'bio', 'body', 'cause', 'certain', 'cogmech', 'conj', 'death', 'discrep', 'excl', 'family', 'feel', 'filler', 'friend', 'funct', 'future', 'health', 'hear', 'home', 'humans', 'i', 'incl', 'ingest', 'inhib', 'insight', 'ipron', 'leisure', 'money', 'motion', 'negate', 'negemo', 'nonfl', 'number', 'past', 'percept', 'posemo', 'ppron', 'preps', 'present', 'pronoun', 'quant', 'relativ', 'relig', 'sad', 'see', 'sexual', 'shehe', 'social', 'space', 'swear', 'tentat', 'they', 'time', 'verb', 'we', 'work', 'you']\n"
     ]
    }
   ],
   "source": [
    "# buscando categorias do liwc\n",
    "with open('data/liwc.dic') as f:\n",
    "    linhas = f.readlines()\n",
    "    \n",
    "liwcCats = []\n",
    "for cont, linha in enumerate(linhas):\n",
    "    linha = linha.strip(\"\\n\")\n",
    "    if linha == \"%\":\n",
    "        if cont > 2:\n",
    "            break\n",
    "        else:\n",
    "            continue\n",
    "    it = linha.split(\"\\t\")[1]\n",
    "    #print(it)\n",
    "    liwcCats.append(it)\n",
    "liwcCats.sort()\n",
    "print(liwcCats)"
   ]
  },
  {
   "cell_type": "code",
   "execution_count": 41,
   "metadata": {},
   "outputs": [
    {
     "name": "stderr",
     "output_type": "stream",
     "text": [
      "/dados/usuarios/mateus/projetos/camões/camoes/lib/python3.7/site-packages/IPython/core/interactiveshell.py:3170: DtypeWarning: Columns (7,9) have mixed types.Specify dtype option on import or set low_memory=False.\n",
      "  interactivity=interactivity, compiler=compiler, result=result)\n",
      "/dados/usuarios/mateus/projetos/camões/camoes/lib/python3.7/site-packages/IPython/core/interactiveshell.py:3170: DtypeWarning: Columns (7) have mixed types.Specify dtype option on import or set low_memory=False.\n",
      "  interactivity=interactivity, compiler=compiler, result=result)\n"
     ]
    }
   ],
   "source": [
    "# buscando categorias deprel e udeprel\n",
    "deprels = []\n",
    "udeprels = []\n",
    "\n",
    "for arquivo in sorted(glob.glob(\"data/BDCamões_DependencyBank/*.tsv\")):\n",
    "    #print(arquivo)\n",
    "    df = pd.read_csv(arquivo, sep='\\t')\n",
    "    for x in df['deprel']:\n",
    "        if (x not in deprels and not x.isnumeric()): deprels.append(x)\n",
    "    for x in df['udeprel']:\n",
    "        if (x not in udeprels and not x.isnumeric()): udeprels.append(x)            \n",
    "    #break\n",
    "deprels.sort()\n",
    "udeprels.sort()"
   ]
  },
  {
   "cell_type": "code",
   "execution_count": 42,
   "metadata": {},
   "outputs": [
    {
     "name": "stdout",
     "output_type": "stream",
     "text": [
      "['ADV', 'C', 'C-ARG1', 'C-ARG2', 'C-ARG3', 'CARD', 'CONJ', 'COORD', 'D1', 'DEP', 'DO', 'DO-ARG1', 'DO-ARG2', 'DO-ARG21', 'DO-ARG3', 'DO-EXT', 'IO-ARG2', 'IO-ARG3', 'M', 'M-ADV', 'M-ARG1', 'M-CAU', 'M-DIR', 'M-EXT', 'M-LOC', 'M-M', 'M-MNR', 'M-NULL', 'M-PNC', 'M-POV', 'M-PRED', 'M-TMP', 'N', \"N'\", 'OBL-ADV', 'OBL-ARG1', 'OBL-ARG2', 'OBL-ARG3', 'P', 'PERCENT', 'POSS', 'PRD', 'PRD-ARG2', 'PUNCT', 'QNT', 'ROOT', 'S', 'SJ', 'SJ-ARG1', 'SJ-ARG11', 'SJ-ARG1cp', 'SJ-ARG2', 'SJ-ARG2ac', 'SJ-ARG2cp', 'SJ-ARGA', 'SJ-NULL', 'SP', 'SP-ARG1', 'SP-ARG2', 'SP-M', 'SP-PRED', 'V']\n"
     ]
    }
   ],
   "source": [
    "print(deprels)"
   ]
  },
  {
   "cell_type": "code",
   "execution_count": 43,
   "metadata": {},
   "outputs": [
    {
     "name": "stdout",
     "output_type": "stream",
     "text": [
      "['ADVCL', 'ADVMOD', 'AMOD', 'APPOS', 'AUX', 'CASE', 'CC', 'CCOMP', 'COMP', 'CONJ', 'COORD', 'COP', 'CSUBJ', 'CSUBJPASS', 'DEP', 'DET', 'DISCOURSE', 'DOBJ', 'IOBJ', 'MARK', 'MOD', 'MWE', 'NSUBJ', 'NSUBJPASS', 'NUM', 'NUMBER', 'PARATAXIS', 'POBJ', 'POSS', 'PRECONJ', 'PREDET', 'PUNCT', 'ROOT', 'S', 'SJ', 'XCOMP']\n"
     ]
    }
   ],
   "source": [
    "print(udeprels)"
   ]
  },
  {
   "cell_type": "markdown",
   "metadata": {},
   "source": [
    "## Constructing dataset for machine learnning"
   ]
  },
  {
   "cell_type": "code",
   "execution_count": 67,
   "metadata": {},
   "outputs": [],
   "source": [
    "fdep = open(\"data/camoes_dep.csv\", \"w\")\n",
    "fdep.write(\"id;titulo;autor;ano;genero;\" + \";\".join(deprels) + \"\\n\"  )\n",
    "\n",
    "fudep = open(\"data/camoes_udep.csv\", \"w\")\n",
    "fudep.write(\"id;titulo;autor;ano;genero;\" + \";\".join(udeprels) + \"\\n\"  )\n",
    "\n",
    "\n",
    "id = 1\n",
    "for arquivo in sorted(glob.glob(\"data/BDCamões_DependencyBank/*.tsv\")):\n",
    "    #print(arquivo)\n",
    "    nomeArquivo = arquivo.split('/')[2]\n",
    "    arq = nomeArquivo.split('.')[0]\n",
    "    mydoc = minidom.parse(\"data/BDCamões/\"+arq+\".xml\")\n",
    "    #print(arq)\n",
    "\n",
    "    items = mydoc.getElementsByTagName('title')\n",
    "    title = items[0].firstChild.data\n",
    "\n",
    "    items = mydoc.getElementsByTagName('author')\n",
    "    author = items[0].firstChild.data\n",
    "\n",
    "    items = mydoc.getElementsByTagName('other')\n",
    "    other = items[0].firstChild.data\n",
    "    \n",
    "    for it in other.split(\"\\n\"):\n",
    "        if \"YY\" in it:\n",
    "            ano = it.split(\":\")[1].strip()\n",
    "        if \"GG\" in it:\n",
    "            genero = it.split(\":\")[1].strip()\n",
    "\n",
    "    items = mydoc.getElementsByTagName('text')\n",
    "    texto = items[0].firstChild.data\n",
    "    #print(texto)\n",
    "           \n",
    "    # opening csv\n",
    "    auxDepRels = []\n",
    "    df = pd.read_csv(arquivo, sep='\\t')\n",
    "\n",
    "    # couting dep rels\n",
    "    auxDepRels = [x for x in df['deprel'] if not x.isnumeric()]\n",
    "    contDepRels = Counter(auxDepRels).most_common()\n",
    "\n",
    "    # couting udep rels\n",
    "    auxUDepRels = [x for x in df['udeprel'] if not x.isnumeric()]\n",
    "    contUDepRels = Counter(auxUDepRels).most_common()\n",
    "    \n",
    "    \n",
    "    # total de tokens na obra\n",
    "    num_lines = sum(1 for line in open(arquivo))-1\n",
    "    \n",
    "    # dep file\n",
    "    aux = str(id)+\";\"+title +\";\"+author+\";\"+ano+\";\"+genero\n",
    "    for cat in deprels:\n",
    "        sent = [x[1] for x in contDepRels if x[0] == cat]\n",
    "        if sent:\n",
    "            valor=round(sent[0]*10000/num_lines)\n",
    "        else:\n",
    "            valor=0\n",
    "        aux = aux + \";\"+str(valor)\n",
    "    fdep.write(aux+\"\\n\")\n",
    "\n",
    "    # udep file\n",
    "    aux = str(id)+\";\"+title +\";\"+author+\";\"+ano+\";\"+genero\n",
    "    for cat in udeprels:\n",
    "        sent = [x[1] for x in contUDepRels if x[0] == cat]\n",
    "        if sent:\n",
    "            valor=round(sent[0]*10000/num_lines)\n",
    "        else:\n",
    "            valor=0\n",
    "        aux = aux + \";\"+str(valor)\n",
    "    fudep.write(aux+\"\\n\")\n",
    "    \n",
    "    \n",
    "    #if id > 3: break\n",
    "    id = id + 1\n",
    "fdep.close()\n",
    "fudep.close()"
   ]
  },
  {
   "cell_type": "code",
   "execution_count": 68,
   "metadata": {},
   "outputs": [
    {
     "name": "stdout",
     "output_type": "stream",
     "text": [
      "196 data/camoes_dep.csv\n"
     ]
    }
   ],
   "source": [
    "!wc -l data/camoes_dep.csv"
   ]
  },
  {
   "cell_type": "code",
   "execution_count": 69,
   "metadata": {},
   "outputs": [
    {
     "name": "stdout",
     "output_type": "stream",
     "text": [
      "id;titulo;autor;ano;genero;ADV;C;C-ARG1;C-ARG2;C-ARG3;CARD;CONJ;COORD;D1;DEP;DO;DO-ARG1;DO-ARG2;DO-ARG21;DO-ARG3;DO-EXT;IO-ARG2;IO-ARG3;M;M-ADV;M-ARG1;M-CAU;M-DIR;M-EXT;M-LOC;M-M;M-MNR;M-NULL;M-PNC;M-POV;M-PRED;M-TMP;N;N';OBL-ADV;OBL-ARG1;OBL-ARG2;OBL-ARG3;P;PERCENT;POSS;PRD;PRD-ARG2;PUNCT;QNT;ROOT;S;SJ;SJ-ARG1;SJ-ARG11;SJ-ARG1cp;SJ-ARG2;SJ-ARG2ac;SJ-ARG2cp;SJ-ARGA;SJ-NULL;SP;SP-ARG1;SP-ARG2;SP-M;SP-PRED;V\n",
      "1;A virtude laureada;Manoel Maria de Barbosa du Bocage;1805;Drama;27;1077;45;129;1;1;455;476;0;1360;52;7;530;1;0;0;1;65;11;355;8;20;8;57;156;57;33;0;6;5;1141;131;502;2;1;124;125;22;8;0;0;77;26;363;0;336;8;0;499;1;25;20;0;5;0;0;1158;69;0;0;1;0\n",
      "2;Os Pobres;Raul Brandão;1906;Novel;23;1004;80;145;2;1;540;553;0;994;94;8;515;0;0;0;2;71;16;352;0;24;1;85;120;41;41;0;12;9;659;159;55;1;0;141;111;14;16;0;0;170;93;780;1;551;7;0;530;2;37;33;0;9;0;0;1246;54;0;0;1;0\n",
      "3;Raios de extincta luz;Antero de Quental;1892;Poetry;30;1155;72;135;2;1;467;480;0;1036;54;6;446;0;0;0;0;59;16;327;0;30;1;94;155;59;40;0;8;7;801;143;255;2;0;234;120;14;13;0;0;128;83;614;0;455;5;0;475;2;38;25;0;7;0;0;1261;65;0;0;2;0\n",
      "4;Dispersão;Mário Sá-Carneiro;1914;Petry;78;979;78;93;0;3;494;520;0;962;73;6;546;0;0;0;0;90;6;320;0;17;0;102;160;55;55;0;12;12;692;157;139;0;0;154;102;12;26;0;0;148;102;802;3;625;9;0;520;0;41;23;0;6;0;0;831;41;0;0;3;0\n",
      "5;Cantos Sagrados;Manuel de Arriaga;1899;Poetry;21;1351;46;130;1;2;495;515;0;913;46;3;422;0;0;0;1;49;6;302;1;27;1;76;179;50;31;0;10;7;1020;142;206;2;0;292;132;19;23;0;0;96;58;379;0;335;2;0;427;0;30;18;0;4;0;0;1494;114;0;0;1;0\n",
      "6;A Pavorosa Illusão;Manuel Maria Barbosa du Bocage;1837;Poetry;5;1165;39;135;5;0;411;464;0;1083;77;0;585;0;0;0;0;53;5;455;0;39;5;53;97;48;24;0;0;0;1301;126;271;0;0;203;164;15;15;0;0;48;24;377;0;348;5;0;435;0;29;19;0;5;0;0;1412;97;0;0;0;0\n",
      "7;A Scena do Odio;José de Almada Negreiros;1915;Poem;12;1391;54;116;0;0;398;406;0;626;23;4;398;0;0;0;0;31;0;406;0;8;0;27;139;19;50;0;8;0;908;131;726;0;0;452;135;8;0;0;0;147;116;638;0;526;0;0;294;0;27;15;0;15;0;0;1128;35;0;0;0;0\n",
      "8;Aves Migradoras;Fialho d'Almeida;1922;Tale;26;1321;73;131;0;4;474;505;0;1094;69;7;510;0;0;0;1;67;9;390;1;29;1;74;156;76;50;0;10;6;917;141;80;2;0;343;131;28;23;0;0;127;56;439;0;344;6;0;431;1;44;23;0;8;0;0;1381;63;0;0;2;0\n",
      "9;Canções;António Botto;1921;Poem;20;1037;32;111;0;7;532;564;0;1023;54;0;453;0;0;0;0;45;10;389;0;17;2;87;136;79;40;0;15;7;750;141;139;0;0;193;92;32;12;0;0;136;79;572;0;436;5;0;490;0;25;30;0;5;0;0;1429;161;0;0;0;0\n"
     ]
    }
   ],
   "source": [
    "!head data/camoes_dep.csv"
   ]
  },
  {
   "cell_type": "code",
   "execution_count": 70,
   "metadata": {},
   "outputs": [
    {
     "name": "stdout",
     "output_type": "stream",
     "text": [
      "186;TENTAR NÃO MORRER;Gonçalo M. Tavares;2005;Tale;67;1087;107;81;0;0;362;376;0;443;188;27;416;0;0;0;0;40;67;456;0;0;0;67;107;40;67;0;27;13;295;228;0;0;0;121;242;13;13;0;0;255;27;1007;0;953;13;0;510;0;27;0;0;0;0;0;1221;107;0;0;0;0\n",
      "187;CONFIDÊNCIA BARREIRENSE;Teresa Veiga;2000;Tale;27;1737;105;239;0;10;492;471;0;381;98;11;546;2;0;0;0;96;11;464;0;32;1;114;164;45;58;0;43;11;605;216;63;0;0;354;239;23;46;0;3;178;69;317;2;312;5;0;421;2;60;30;0;10;0;0;1482;97;0;0;0;0\n",
      "188;O ROMANCE PERDIDO;Fernando Venâncio;2004;Tale;42;1214;77;162;2;0;405;432;0;1041;92;30;577;0;0;0;7;77;2;437;0;25;2;115;172;55;52;0;10;10;544;240;20;0;0;227;135;20;25;0;0;182;90;524;0;547;7;0;425;0;55;32;0;10;0;0;1276;70;0;0;0;0\n",
      "189;Auto da Barca do Inferno;Gil Vicente;1517;Drama;17;888;95;189;0;4;407;428;0;639;27;37;541;0;0;0;0;65;9;285;0;33;0;67;135;46;56;0;1;4;680;114;366;0;0;141;148;10;9;0;0;164;80;811;0;752;11;0;666;6;58;38;0;13;0;0;969;58;0;0;0;0\n",
      "190;Auto da Alma;Gil Vicente;1518;Drama;11;924;77;181;2;6;507;518;0;1160;32;15;520;0;0;0;0;49;9;304;2;34;0;81;128;57;53;0;0;4;822;126;298;4;0;104;113;4;8;4;0;164;85;545;0;583;6;0;520;6;41;41;0;8;0;0;1073;85;0;0;0;0\n",
      "191;Auto da Índia;Gil Vicente;1509;Drama;8;787;85;215;3;19;455;473;0;670;29;27;580;0;0;0;0;85;13;322;0;37;0;88;125;48;40;0;3;0;1024;162;582;0;0;59;90;8;8;0;0;170;93;694;0;601;5;0;758;5;64;21;3;11;0;0;801;66;0;0;0;0\n",
      "192;Farsa de Inês Pereira;Gil Vicente;1523;Drama;9;850;124;226;1;15;491;519;0;1008;35;10;642;0;0;0;0;64;9;383;2;29;1;92;109;43;64;0;1;3;700;160;359;0;0;62;98;5;5;0;0;127;52;693;1;642;5;0;628;3;73;35;0;6;0;0;809;61;0;0;0;0\n",
      "193;A Cidade e a Infância;Luandino Vieira;1960;Tale;16;1342;65;122;1;1;394;403;0;463;76;20;465;0;0;0;0;50;18;390;1;26;1;86;163;31;49;0;16;5;575;188;105;0;0;274;188;25;26;0;0;158;68;760;2;689;3;0;524;1;35;22;1;5;0;0;1388;57;0;0;1;0\n",
      "194;KAPAPA;JOSÉ LUANDINO VIEIRA;1998;Novel;25;1429;81;154;0;5;549;554;0;903;38;3;497;1;0;0;1;35;13;429;3;30;3;91;224;48;40;0;16;15;656;147;57;0;0;407;110;18;37;0;0;127;113;381;3;306;11;0;449;5;55;24;0;11;0;0;1438;132;0;0;1;0\n",
      "195;Sermão de St.° António aos Peixes;P.e António Vieira;1654;Allegory;19;1408;86;229;1;3;614;595;1;834;82;18;569;0;0;0;1;88;47;474;1;39;1;168;140;43;56;0;16;10;528;146;91;0;0;178;169;25;17;0;2;142;98;347;1;352;8;0;509;4;47;28;0;6;0;0;1373;56;0;0;1;0\n"
     ]
    }
   ],
   "source": [
    "!tail data/camoes_dep.csv"
   ]
  },
  {
   "cell_type": "code",
   "execution_count": 71,
   "metadata": {},
   "outputs": [
    {
     "name": "stdout",
     "output_type": "stream",
     "text": [
      "196 data/camoes_udep.csv\n"
     ]
    }
   ],
   "source": [
    "!wc -l data/camoes_udep.csv"
   ]
  },
  {
   "cell_type": "code",
   "execution_count": 72,
   "metadata": {},
   "outputs": [
    {
     "name": "stdout",
     "output_type": "stream",
     "text": [
      "id;titulo;autor;ano;genero;ADVCL;ADVMOD;AMOD;APPOS;AUX;CASE;CC;CCOMP;COMP;CONJ;COORD;COP;CSUBJ;CSUBJPASS;DEP;DET;DISCOURSE;DOBJ;IOBJ;MARK;MOD;MWE;NSUBJ;NSUBJPASS;NUM;NUMBER;PARATAXIS;POBJ;POSS;PRECONJ;PREDET;PUNCT;ROOT;S;SJ;XCOMP\n",
      "1;A virtude laureada;Manoel Maria de Barbosa du Bocage;1805;Drama;21;259;569;8;3;591;316;27;0;18;0;75;1;0;3920;788;0;435;54;61;620;395;382;1;7;10;204;174;92;1;0;300;227;0;0;26\n",
      "2;Os Pobres;Raul Brandão;1906;Novel;35;411;525;2;19;672;483;76;1;26;0;246;2;0;1933;1144;0;609;61;115;527;105;548;1;7;0;235;236;74;2;1;740;506;0;0;61\n",
      "3;Raios de extincta luz;Antero de Quental;1892;Poetry;41;351;548;5;7;749;370;50;0;30;0;184;1;0;2566;1049;0;457;50;107;554;296;450;1;12;18;172;315;80;4;0;544;368;0;0;45\n",
      "4;Dispersão;Mário Sá-Carneiro;1914;Petry;49;418;416;15;3;610;433;67;0;17;0;218;6;0;2264;683;0;575;78;110;546;221;491;0;0;0;259;209;81;6;0;727;546;0;0;46\n",
      "5;Cantos Sagrados;Manuel de Arriaga;1899;Poetry;24;272;643;5;10;870;359;53;0;32;0;127;1;0;2903;1161;0;404;34;88;644;225;384;3;12;3;130;364;128;1;0;324;253;0;0;23\n",
      "6;A Pavorosa Illusão;Manuel Maria Barbosa du Bocage;1837;Poetry;39;280;764;0;5;808;343;53;0;15;0;63;0;0;2519;1223;0;556;44;68;846;280;411;5;5;0;193;324;131;0;0;343;290;0;0;34\n",
      "7;A Scena do Odio;José de Almada Negreiros;1915;Poem;8;185;406;8;0;846;209;62;0;12;0;170;0;0;3257;757;0;232;8;62;614;641;247;4;15;4;85;437;50;0;0;572;491;0;0;35\n",
      "8;Aves Migradoras;Fialho d'Almeida;1922;Tale;32;363;651;2;18;942;401;67;2;31;0;167;0;0;2297;1201;0;560;61;95;696;140;441;1;24;1;198;435;86;2;0;407;302;0;0;50\n",
      "9;Canções;António Botto;1921;Poem;42;381;508;7;2;673;433;50;0;27;0;186;2;0;2310;1169;0;490;32;109;629;186;493;0;5;0;228;270;233;0;0;522;359;0;0;42\n"
     ]
    }
   ],
   "source": [
    "!head data/camoes_udep.csv"
   ]
  },
  {
   "cell_type": "code",
   "execution_count": 73,
   "metadata": {},
   "outputs": [
    {
     "name": "stdout",
     "output_type": "stream",
     "text": [
      "186;TENTAR NÃO MORRER;Gonçalo M. Tavares;2005;Tale;13;523;336;0;54;832;309;40;0;13;0;282;0;0;1329;1087;0;604;27;67;336;161;443;0;27;0;188;322;107;0;0;980;913;0;0;81\n",
      "187;CONFIDÊNCIA BARREIRENSE;Teresa Veiga;2000;Tale;45;502;586;8;31;1246;449;195;1;35;0;231;8;0;1247;1363;0;667;87;204;633;169;467;6;30;0;73;559;146;3;2;310;300;0;0;93\n",
      "188;O ROMANCE PERDIDO;Fernando Venâncio;2004;Tale;40;609;475;2;30;834;355;75;2;30;0;252;5;2;1968;1144;0;654;80;147;475;90;490;2;40;0;200;320;90;0;0;509;504;0;0;47\n",
      "189;Auto da Barca do Inferno;Gil Vicente;1517;Drama;28;430;458;9;16;582;350;67;14;47;0;232;0;0;1443;769;0;611;63;104;512;391;713;0;14;141;169;245;67;0;0;801;727;0;1;63\n",
      "190;Auto da Alma;Gil Vicente;1518;Drama;13;341;549;8;15;532;385;66;2;34;0;209;2;0;3098;650;0;522;41;90;430;279;507;2;6;187;175;160;87;0;0;466;419;0;0;38\n",
      "191;Auto da Índia;Gil Vicente;1509;Drama;27;431;497;5;5;367;314;53;0;27;0;194;0;0;2846;463;0;548;72;106;436;457;684;0;35;149;186;120;66;0;0;638;564;0;0;48\n",
      "192;Farsa de Inês Pereira;Gil Vicente;1523;Drama;48;517;426;6;28;424;373;78;1;60;0;150;1;0;2701;469;0;599;62;152;436;335;599;3;9;194;195;113;64;1;1;616;508;0;0;87\n",
      "193;A Cidade e a Infância;Luandino Vieira;1960;Tale;40;448;460;10;21;1013;345;68;0;16;0;210;0;0;1279;1283;0;554;49;134;553;139;549;0;14;6;139;449;70;0;2;739;664;0;0;48\n",
      "194;KAPAPA;JOSÉ LUANDINO VIEIRA;1998;Novel;29;363;460;8;23;1034;432;64;1;15;0;212;0;0;2488;1152;0;504;28;67;670;91;462;0;25;4;244;447;208;1;1;335;245;0;0;64\n",
      "195;Sermão de St.° António aos Peixes;P.e António Vieira;1654;Allegory;62;555;456;9;22;886;505;104;3;58;0;222;5;0;2224;1216;0;626;85;196;519;134;512;3;26;0;132;324;85;6;1;332;307;0;0;52\n"
     ]
    }
   ],
   "source": [
    "!tail data/camoes_udep.csv"
   ]
  },
  {
   "cell_type": "code",
   "execution_count": null,
   "metadata": {},
   "outputs": [],
   "source": []
  },
  {
   "cell_type": "code",
   "execution_count": null,
   "metadata": {},
   "outputs": [],
   "source": []
  },
  {
   "cell_type": "code",
   "execution_count": null,
   "metadata": {},
   "outputs": [],
   "source": []
  }
 ],
 "metadata": {
  "kernelspec": {
   "display_name": "camoes",
   "language": "python",
   "name": "camoes"
  },
  "language_info": {
   "codemirror_mode": {
    "name": "ipython",
    "version": 3
   },
   "file_extension": ".py",
   "mimetype": "text/x-python",
   "name": "python",
   "nbconvert_exporter": "python",
   "pygments_lexer": "ipython3",
   "version": "3.7.3"
  }
 },
 "nbformat": 4,
 "nbformat_minor": 4
}
